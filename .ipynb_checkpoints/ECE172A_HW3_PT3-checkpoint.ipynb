{
 "cells": [
  {
   "cell_type": "code",
   "execution_count": 1,
   "metadata": {},
   "outputs": [],
   "source": [
    "import os\n",
    "import pandas as pd\n",
    "import cv2\n",
    "import tensorflow.keras as keras\n",
    "import numpy as np\n",
    "import matplotlib.pyplot as plt\n",
    "from tensorflow.keras.layers import Dense, Dropout, Flatten, Input\n",
    "from tensorflow.keras.layers import Conv2D, MaxPooling2D\n",
    "from tensorflow.keras.layers import BatchNormalization\n",
    "from tensorflow.keras.optimizers import Adam\n",
    "from tensorflow.keras.models import Sequential\n",
    "\n",
    "data_dir = 'GTSRB-training_fixed\\GTSRB\\Training'"
   ]
  },
  {
   "cell_type": "code",
   "execution_count": 130,
   "metadata": {},
   "outputs": [],
   "source": [
    "def preprocess(img):\n",
    "    return cv2.resize(img, (64, 64), interpolation = cv2.INTER_AREA)"
   ]
  },
  {
   "cell_type": "code",
   "execution_count": 131,
   "metadata": {},
   "outputs": [],
   "source": [
    "list_images = []\n",
    "output = []\n",
    "\n",
    "for dir in os.listdir(data_dir):\n",
    "    i = 0\n",
    "    if dir == '.DS_Store' :\n",
    "        continue\n",
    "    inner_dir = os.path.join(data_dir, dir)\n",
    "    csv_file = pd.read_csv(os.path.join(inner_dir,\"GT-\" + dir + '.csv'), sep=';')\n",
    "    for row in csv_file.iterrows():\n",
    "        if i < 100:\n",
    "            img_path = os.path.join(inner_dir, row[1].Filename)\n",
    "            img = cv2.imread(img_path)\n",
    "            img = img[row[1]['Roi.X1']:row[1]['Roi.X2'],row[1]['Roi.Y1']:row[1]['Roi.Y2'],:]\n",
    "            img = preprocess(img)\n",
    "            list_images.append(img)\n",
    "            output.append(row[1].ClassId)\n",
    "        i += 1"
   ]
  },
  {
   "cell_type": "code",
   "execution_count": 132,
   "metadata": {},
   "outputs": [],
   "source": [
    "input_array = np.stack(list_images)\n",
    "train_y = keras.utils.to_categorical(output)\n",
    "\n",
    "randomize = np.arange(len(input_array))\n",
    "np.random.shuffle(randomize)\n",
    "\n",
    "x = input_array[randomize]\n",
    "y = train_y[randomize]"
   ]
  },
  {
   "cell_type": "code",
   "execution_count": 133,
   "metadata": {},
   "outputs": [
    {
     "name": "stdout",
     "output_type": "stream",
     "text": [
      "2580\n",
      "31703040 21135360\n",
      "10567680 10567680\n"
     ]
    }
   ],
   "source": [
    "split_size = int(x.shape[0]*0.6)\n",
    "print(split_size)\n",
    "train_x, val_x = x[:split_size], x[split_size:]\n",
    "print(np.size(train_x), np.size(val_x))\n",
    "train1_y, val_y = y[:split_size], y[split_size:]\n",
    "\n",
    "split_size = int(val_x.shape[0]*0.5)\n",
    "val_x, test_x = val_x[:split_size], val_x[split_size:]\n",
    "print(np.size(test_x), np.size(val_x))\n",
    "val_y, test_y = val_y[:split_size], val_y[split_size:]"
   ]
  },
  {
   "cell_type": "code",
   "execution_count": 137,
   "metadata": {},
   "outputs": [
    {
     "name": "stderr",
     "output_type": "stream",
     "text": [
      "WARNING:absl:`lr` is deprecated in Keras optimizer, please use `learning_rate` or use the legacy optimizer, e.g.,tf.keras.optimizers.legacy.Adam.\n"
     ]
    },
    {
     "name": "stdout",
     "output_type": "stream",
     "text": [
      "Epoch 1/10\n",
      "162/162 [==============================] - 31s 176ms/step - loss: 3.7731 - accuracy: 0.0694 - val_loss: 3.5150 - val_accuracy: 0.0814\n",
      "Epoch 2/10\n",
      "162/162 [==============================] - 29s 178ms/step - loss: 3.2517 - accuracy: 0.1457 - val_loss: 3.4548 - val_accuracy: 0.1547\n",
      "Epoch 3/10\n",
      "162/162 [==============================] - 30s 187ms/step - loss: 1.9432 - accuracy: 0.4415 - val_loss: 1.9176 - val_accuracy: 0.4826\n",
      "Epoch 4/10\n",
      "162/162 [==============================] - 35s 217ms/step - loss: 0.7491 - accuracy: 0.7791 - val_loss: 0.5732 - val_accuracy: 0.8523\n",
      "Epoch 5/10\n",
      "162/162 [==============================] - 37s 231ms/step - loss: 0.4035 - accuracy: 0.8880 - val_loss: 0.4812 - val_accuracy: 0.8907\n",
      "Epoch 6/10\n",
      "162/162 [==============================] - 30s 188ms/step - loss: 0.1650 - accuracy: 0.9519 - val_loss: 0.2203 - val_accuracy: 0.9302\n",
      "Epoch 7/10\n",
      "162/162 [==============================] - 29s 176ms/step - loss: 0.1595 - accuracy: 0.9535 - val_loss: 0.6015 - val_accuracy: 0.8640\n",
      "Epoch 8/10\n",
      "162/162 [==============================] - 29s 180ms/step - loss: 0.1875 - accuracy: 0.9547 - val_loss: 0.5361 - val_accuracy: 0.8488\n",
      "Epoch 9/10\n",
      "162/162 [==============================] - 28s 175ms/step - loss: 0.1410 - accuracy: 0.9671 - val_loss: 0.2869 - val_accuracy: 0.9267\n",
      "Epoch 10/10\n",
      "162/162 [==============================] - 31s 190ms/step - loss: 0.1144 - accuracy: 0.9729 - val_loss: 0.2002 - val_accuracy: 0.9488\n"
     ]
    }
   ],
   "source": [
    "epochs = 10\n",
    "batch_size = 16\n",
    "\n",
    "input_shape = Input(shape=(32, 32,3))\n",
    "\n",
    "model = Sequential([\n",
    "    Conv2D(16, (3, 3), activation='relu', input_shape=(64,64,3), padding='same'),\n",
    "    BatchNormalization(),\n",
    "    Conv2D(16, (3, 3), activation='relu', padding='same'),\n",
    "    BatchNormalization(),\n",
    "    MaxPooling2D(pool_size=(2, 2)),\n",
    "    Dropout(0.2),\n",
    "    \n",
    "    Conv2D(32, (3, 3), activation='relu', padding='same'),\n",
    "    BatchNormalization(),\n",
    "    \n",
    "    Conv2D(32, (3, 3), activation='relu', padding='same'),\n",
    "    BatchNormalization(),\n",
    "    MaxPooling2D(pool_size=(2, 2)),\n",
    "    Dropout(0.2),\n",
    "    \n",
    "    Conv2D(64, (3, 3), activation='relu', padding='same'),\n",
    "    BatchNormalization(),\n",
    "\n",
    "    Conv2D(64, (3, 3), activation='relu', padding='same'),\n",
    "    BatchNormalization(),\n",
    "    MaxPooling2D(pool_size=(2, 2)),\n",
    "    Dropout(0.2),\n",
    "    \n",
    "    Flatten(),\n",
    "    Dense(units=2048, activation='relu'),\n",
    "    Dense(units=1024, activation='relu'),\n",
    "    Dense(units=128, activation='relu'),\n",
    "    Dense(units=43, input_dim=2048, activation='softmax'),\n",
    "])\n",
    "\n",
    "model.compile(loss='categorical_crossentropy', optimizer=Adam(lr=1e-4), metrics=['accuracy'])\n",
    "trained_model_conv = model.fit(train_x.reshape(-1,64,64,3), train1_y, epochs=epochs, batch_size=batch_size, validation_data=(val_x, val_y))"
   ]
  },
  {
   "cell_type": "code",
   "execution_count": 135,
   "metadata": {},
   "outputs": [
    {
     "name": "stdout",
     "output_type": "stream",
     "text": [
      "27/27 [==============================] - 1s 40ms/step - loss: 0.4563 - accuracy: 0.8744\n"
     ]
    },
    {
     "data": {
      "text/plain": [
       "[0.4562532901763916, 0.8744186162948608]"
      ]
     },
     "execution_count": 135,
     "metadata": {},
     "output_type": "execute_result"
    }
   ],
   "source": [
    "model.evaluate(test_x, test_y)"
   ]
  },
  {
   "cell_type": "code",
   "execution_count": 136,
   "metadata": {},
   "outputs": [
    {
     "data": {
      "text/plain": [
       "Text(0.5, 1.0, 'Network accuracy')"
      ]
     },
     "execution_count": 136,
     "metadata": {},
     "output_type": "execute_result"
    },
    {
     "data": {
      "image/png": "[encoded data removed]",
      "text/plain": [
       "<Figure size 640x480 with 1 Axes>"
      ]
     },
     "metadata": {},
     "output_type": "display_data"
    }
   ],
   "source": [
    "accuracy_v = [0.7674, 0.6163, 0.9457, 0.9157, 0.9395, 0.9244, 0.9252, 0.9288, 0.8966, 0.9581]\n",
    "#loss_v = [1.2355, 1.3907, 1.1522]\n",
    "num_im = [10, 20, 30, 40, 50, 60, 70, 80, 90, 100]\n",
    "\n",
    "plt.plot(num_im, accuracy_v)\n",
    "plt.xlabel(\"Number of Images\")\n",
    "plt.ylabel(\"Accuracy\")\n",
    "plt.title(\"Network accuracy\")"
   ]
  }
 ],
 "metadata": {
  "kernelspec": {
   "display_name": "Python 3 (ipykernel)",
   "language": "python",
   "name": "python3"
  },
  "language_info": {
   "codemirror_mode": {
    "name": "ipython",
    "version": 3
   },
   "file_extension": ".py",
   "mimetype": "text/x-python",
   "name": "python",
   "nbconvert_exporter": "python",
   "pygments_lexer": "ipython3",
   "version": "3.9.16"
  }
 },
 "nbformat": 4,
 "nbformat_minor": 2
}
